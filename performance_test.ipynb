{
 "cells": [
  {
   "cell_type": "code",
   "execution_count": 1,
   "metadata": {
    "collapsed": true
   },
   "outputs": [],
   "source": [
    "import matplotlib.pyplot as plt\n",
    "from powerset import powerset_dfs\n",
    "from powerset import powerset_pythonic\n",
    "from powerset import powerset_iterative\n",
    "from powerset import powerset_mp\n",
    "from time import time"
   ]
  },
  {
   "cell_type": "code",
   "execution_count": 2,
   "metadata": {},
   "outputs": [],
   "source": [
    "nums_length = [x for x in range(1, 25, 1)]\n",
    "powerset_dfs_time = []\n",
    "powerset_iterative_time = []\n",
    "powerset_mp_time = []\n",
    "powerset_pythonic_time = []\n",
    "res_times = [powerset_dfs_time, powerset_iterative_time, powerset_pythonic_time, powerset_mp_time]\n",
    "algs = [powerset_dfs, powerset_iterative, powerset_pythonic, powerset_mp]\n"
   ]
  },
  {
   "cell_type": "code",
   "execution_count": 3,
   "metadata": {},
   "outputs": [
    {
     "name": "stdout",
     "output_type": "stream",
     "text": [
      "********************************************************************************\npowerset_dfs\nNum of elements 1: takes 0.0s\nNum of elements 2: takes 0.0s\nNum of elements 3: takes 0.0s\nNum of elements 4: takes 0.0s\nNum of elements 5: takes 0.0s\nNum of elements 6: takes 0.0s\nNum of elements 7: takes 0.0s\nNum of elements 8: takes 0.0010235309600830078s\nNum of elements 9: takes 0.0009734630584716797s\nNum of elements 10: takes 0.000997781753540039s\nNum of elements 11: takes 0.006978511810302734s\nNum of elements 12: takes 0.007977485656738281s\nNum of elements 13: takes 0.022937297821044922s\nNum of elements 14: takes 0.040894269943237305s\nNum of elements 15: takes 0.08477091789245605s\n"
     ]
    },
    {
     "name": "stdout",
     "output_type": "stream",
     "text": [
      "Num of elements 16: takes 0.21242785453796387s\n"
     ]
    },
    {
     "name": "stdout",
     "output_type": "stream",
     "text": [
      "Num of elements 17: takes 0.41089963912963867s\n"
     ]
    },
    {
     "name": "stdout",
     "output_type": "stream",
     "text": [
      "Num of elements 18: takes 0.7605600357055664s\n"
     ]
    },
    {
     "name": "stdout",
     "output_type": "stream",
     "text": [
      "Num of elements 19: takes 1.4841480255126953s\n"
     ]
    },
    {
     "name": "stdout",
     "output_type": "stream",
     "text": [
      "Num of elements 20: takes 3.2877020835876465s\n"
     ]
    },
    {
     "name": "stdout",
     "output_type": "stream",
     "text": [
      "Num of elements 21: takes 6.844213962554932s\n"
     ]
    },
    {
     "name": "stdout",
     "output_type": "stream",
     "text": [
      "Num of elements 22: takes 11.27577257156372s\n"
     ]
    },
    {
     "name": "stdout",
     "output_type": "stream",
     "text": [
      "Num of elements 23: takes 23.730998754501343s\n"
     ]
    },
    {
     "name": "stdout",
     "output_type": "stream",
     "text": [
      "Num of elements 24: takes 46.41750407218933s\n********************************************************************************\npowerset_iterative\nNum of elements 1: takes 0.0s\nNum of elements 2: takes 0.0s\nNum of elements 3: takes 0.0s\nNum of elements 4: takes 0.0s\nNum of elements 5: takes 0.0s\nNum of elements 6: takes 0.0s\nNum of elements 7: takes 0.0009984970092773438s\nNum of elements 8: takes 0.0s\nNum of elements 9: takes 0.0s\nNum of elements 10: takes 0.0009961128234863281s\nNum of elements 11: takes 0.0010378360748291016s\nNum of elements 12: takes 0.0019948482513427734s\nNum of elements 13: takes 0.0040242671966552734s\nNum of elements 14: takes 0.007978677749633789s\nNum of elements 15: takes 0.01699662208557129s\nNum of elements 16: takes 0.035906314849853516s\n"
     ]
    },
    {
     "name": "stdout",
     "output_type": "stream",
     "text": [
      "Num of elements 17: takes 0.12286067008972168s\n"
     ]
    },
    {
     "name": "stdout",
     "output_type": "stream",
     "text": [
      "Num of elements 18: takes 0.27400684356689453s\n"
     ]
    },
    {
     "name": "stdout",
     "output_type": "stream",
     "text": [
      "Num of elements 19: takes 0.593940258026123s\n"
     ]
    },
    {
     "name": "stdout",
     "output_type": "stream",
     "text": [
      "Num of elements 20: takes 1.2586421966552734s\n"
     ]
    },
    {
     "name": "stdout",
     "output_type": "stream",
     "text": [
      "Num of elements 21: takes 2.6419248580932617s\n"
     ]
    },
    {
     "name": "stdout",
     "output_type": "stream",
     "text": [
      "Num of elements 22: takes 5.273436546325684s\n"
     ]
    },
    {
     "name": "stdout",
     "output_type": "stream",
     "text": [
      "Num of elements 23: takes 10.096128940582275s\n"
     ]
    },
    {
     "name": "stdout",
     "output_type": "stream",
     "text": [
      "Num of elements 24: takes 20.650389909744263s\n********************************************************************************\npowerset_pythonic\nNum of elements 1: takes 0.0s\nNum of elements 2: takes 0.0s\nNum of elements 3: takes 0.0s\nNum of elements 4: takes 0.0s\nNum of elements 5: takes 0.0s\nNum of elements 6: takes 0.000997781753540039s\nNum of elements 7: takes 0.0s\nNum of elements 8: takes 0.0s\nNum of elements 9: takes 0.0s\nNum of elements 10: takes 0.0s\nNum of elements 11: takes 0.0009970664978027344s\nNum of elements 12: takes 0.0009984970092773438s\nNum of elements 13: takes 0.001991748809814453s\nNum of elements 14: takes 0.003989696502685547s\nNum of elements 15: takes 0.008975028991699219s\nNum of elements 16: takes 0.024932861328125s\nNum of elements 17: takes 0.0388941764831543s\nNum of elements 18: takes 0.07779312133789062s\n"
     ]
    },
    {
     "name": "stdout",
     "output_type": "stream",
     "text": [
      "Num of elements 19: takes 0.16656041145324707s\n"
     ]
    },
    {
     "name": "stdout",
     "output_type": "stream",
     "text": [
      "Num of elements 20: takes 0.3466064929962158s\n"
     ]
    },
    {
     "name": "stdout",
     "output_type": "stream",
     "text": [
      "Num of elements 21: takes 0.7475810050964355s\n"
     ]
    },
    {
     "name": "stdout",
     "output_type": "stream",
     "text": [
      "Num of elements 22: takes 1.6701860427856445s\n"
     ]
    },
    {
     "name": "stdout",
     "output_type": "stream",
     "text": [
      "Num of elements 23: takes 2.8178727626800537s\n"
     ]
    },
    {
     "name": "stdout",
     "output_type": "stream",
     "text": [
      "Num of elements 24: takes 5.668190240859985s\n********************************************************************************\npowerset_mp\n"
     ]
    },
    {
     "name": "stdout",
     "output_type": "stream",
     "text": [
      "Num of elements 1: takes 2.7756474018096924s\n"
     ]
    },
    {
     "name": "stdout",
     "output_type": "stream",
     "text": [
      "Num of elements 2: takes 2.5317111015319824s\n"
     ]
    },
    {
     "name": "stdout",
     "output_type": "stream",
     "text": [
      "Num of elements 3: takes 2.651942729949951s\n"
     ]
    },
    {
     "name": "stdout",
     "output_type": "stream",
     "text": [
      "Num of elements 4: takes 2.181394577026367s\n"
     ]
    },
    {
     "name": "stdout",
     "output_type": "stream",
     "text": [
      "Num of elements 5: takes 2.1760196685791016s\n"
     ]
    },
    {
     "name": "stdout",
     "output_type": "stream",
     "text": [
      "Num of elements 6: takes 1.921114206314087s\n"
     ]
    },
    {
     "name": "stdout",
     "output_type": "stream",
     "text": [
      "Num of elements 7: takes 2.191720724105835s\n"
     ]
    },
    {
     "name": "stdout",
     "output_type": "stream",
     "text": [
      "Num of elements 8: takes 2.375087261199951s\n"
     ]
    },
    {
     "name": "stdout",
     "output_type": "stream",
     "text": [
      "Num of elements 9: takes 2.153958559036255s\n"
     ]
    },
    {
     "name": "stdout",
     "output_type": "stream",
     "text": [
      "Num of elements 10: takes 1.9197595119476318s\n"
     ]
    },
    {
     "name": "stdout",
     "output_type": "stream",
     "text": [
      "Num of elements 11: takes 1.6831889152526855s\n"
     ]
    },
    {
     "name": "stdout",
     "output_type": "stream",
     "text": [
      "Num of elements 12: takes 1.4577186107635498s\n"
     ]
    },
    {
     "name": "stdout",
     "output_type": "stream",
     "text": [
      "Num of elements 13: takes 1.464108943939209s\n"
     ]
    },
    {
     "name": "stdout",
     "output_type": "stream",
     "text": [
      "Num of elements 14: takes 1.616283655166626s\n"
     ]
    },
    {
     "name": "stdout",
     "output_type": "stream",
     "text": [
      "Num of elements 15: takes 1.640303134918213s\n"
     ]
    },
    {
     "name": "stdout",
     "output_type": "stream",
     "text": [
      "Num of elements 16: takes 2.0042262077331543s\n"
     ]
    },
    {
     "name": "stdout",
     "output_type": "stream",
     "text": [
      "Num of elements 17: takes 2.701056480407715s\n"
     ]
    },
    {
     "name": "stdout",
     "output_type": "stream",
     "text": [
      "Num of elements 18: takes 2.443214178085327s\n"
     ]
    },
    {
     "name": "stdout",
     "output_type": "stream",
     "text": [
      "Num of elements 19: takes 3.5497515201568604s\n"
     ]
    },
    {
     "name": "stdout",
     "output_type": "stream",
     "text": [
      "Num of elements 20: takes 12.55762791633606s\n"
     ]
    },
    {
     "name": "stdout",
     "output_type": "stream",
     "text": [
      "Num of elements 21: takes 17.452022552490234s\n"
     ]
    },
    {
     "name": "stdout",
     "output_type": "stream",
     "text": [
      "Num of elements 22: takes 35.50550556182861s\n"
     ]
    },
    {
     "name": "stdout",
     "output_type": "stream",
     "text": [
      "Num of elements 23: takes 48.42185139656067s\n"
     ]
    }
   ],
   "source": [
    "for alg, res_time in zip(algs, res_times):\n",
    "    print('*'*80)\n",
    "    print(alg.__name__)\n",
    "    for l in nums_length:\n",
    "        test_in = [x for x in range(l)]\n",
    "        \n",
    "        try:\n",
    "            if alg.__name__ == 'powerset_pythonic':\n",
    "                start = time()\n",
    "                list(alg(test_in))\n",
    "                stop = time()\n",
    "            else:\n",
    "                start = time()\n",
    "                alg(test_in)\n",
    "                stop = time()\n",
    "            total = stop - start\n",
    "            print(\"Num of elements {}: takes {}s\".format(l, total))\n",
    "            res_time.append(total)\n",
    "        except MemoryError:\n",
    "            res_time.append(0)\n"
   ]
  },
  {
   "cell_type": "code",
   "execution_count": 21,
   "metadata": {
    "collapsed": false
   },
   "outputs": [
    {
     "name": "stdout",
     "output_type": "stream",
     "text": [
      "24 24\n"
     ]
    },
    {
     "data": {
      "image/png": "[encoded data removed]",
      "text/plain": [
       "<Figure size 864x432 with 1 Axes>"
      ]
     },
     "metadata": {},
     "output_type": "display_data"
    }
   ],
   "source": [
    "print(len(nums_length), len(powerset_dfs_time))\n",
    "plt.figure(figsize=(12, 6))\n",
    "plt.xticks([x for x in range(len(nums_length) + 5)])\n",
    "plt.plot(nums_length, powerset_dfs_time, 'rs-', markersize=12, label='dfs')\n",
    "plt.plot(nums_length, powerset_iterative_time, 'go-', markersize=8, label='iterative')\n",
    "plt.plot(nums_length, powerset_pythonic_time, 'bx-', markersize=10, label='pythonic')\n",
    "plt.plot(nums_length[:-1], powerset_mp_time[:-1], 'yh-', markersize=10, label='multiprocessing')\n",
    "plt.plot([25], [-2], 'rs', markersize=10)\n",
    "plt.plot([25], [-2], 'go')\n",
    "plt.plot([24], [-2], 'yh', markersize=16)\n",
    "plt.plot([25], [-2], 'bx', markersize=14)\n",
    "plt.annotate('Memory errors', (23, 2))\n",
    "plt.annotate('KO pythonic, dfs, iterative', (25, 0))\n",
    "plt.annotate('KO multprocessing', (21, -1))\n",
    "plt.title('Performance measurement')\n",
    "plt.ylabel('Computation time')\n",
    "plt.xlabel('Number of elements')\n",
    "plt.legend()\n",
    "plt.show()"
   ]
  }
 ],
 "metadata": {
  "kernelspec": {
   "display_name": "Python 2",
   "language": "python",
   "name": "python2"
  },
  "language_info": {
   "codemirror_mode": {
    "name": "ipython",
    "version": 2
   },
   "file_extension": ".py",
   "mimetype": "text/x-python",
   "name": "python",
   "nbconvert_exporter": "python",
   "pygments_lexer": "ipython2",
   "version": "2.7.6"
  }
 },
 "nbformat": 4,
 "nbformat_minor": 0
}
